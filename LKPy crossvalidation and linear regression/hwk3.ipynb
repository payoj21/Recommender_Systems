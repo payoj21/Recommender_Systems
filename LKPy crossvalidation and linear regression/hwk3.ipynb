{
 "cells": [
  {
   "cell_type": "markdown",
   "metadata": {},
   "source": [
    "# Homework 3\n",
    "- INFO 4871 / 5871\n",
    "- Spring 2019\n",
    "- __Payoj Jain__"
   ]
  },
  {
   "cell_type": "markdown",
   "metadata": {},
   "source": [
    "# NOTE: LKPy 0.6.0\n",
    "\n",
    "To do this homework, you will need to upgrade to LKPy version 0.6.0. I generally try to avoid requiring software changes in the middle of the quarter, but in this case, the benefits are (I believe) worth the hassle. Using `conda` to update should be sufficient. If you have trouble with the update not being detected (as I did on my Mac), you may need to use the `pip`+github method described at https://github.com/lenskit/lkpy."
   ]
  },
  {
   "cell_type": "markdown",
   "metadata": {},
   "source": [
    "## Objective (all students)\n",
    "The object of this assignment is to gain familiarity with algorithm evaluation in LKPy. You will do this by implementing a simple hybrid recommender system and evaluating it relative to its components. I have provided the following:\n",
    "- An outline of the WeightedHybrid class. \n",
    "- A useful utility function my_clone in hwk3_util.py\n",
    "- A simple test case for the WeightedHybrid class\n",
    "- The definition of two knn algorithms UserUserFallback and ItemItemFallback in Fallbacks.py. These are also hybrids in which Bias algorithm is used to predict if not enough neighbors are found. \n",
    "\n",
    "You will first implement the WeightedHybrid. It computes a numerical prediction from its component algorithms and then combines these in a weighted average. "
   ]
  },
  {
   "cell_type": "code",
   "execution_count": 1,
   "metadata": {},
   "outputs": [],
   "source": [
    "import pandas as pd\n",
    "import matplotlib.pyplot as plt\n",
    "import numpy as np\n",
    "%matplotlib inline"
   ]
  },
  {
   "cell_type": "code",
   "execution_count": 2,
   "metadata": {
    "scrolled": true
   },
   "outputs": [],
   "source": [
    "from lenskit import batch, topn, util\n",
    "from lenskit import crossfold as xf\n",
    "from lenskit.algorithms import Predictor, Recommender\n",
    "from lenskit.algorithms.basic import UnratedItemCandidateSelector\n",
    "from lenskit.metrics.predict import rmse"
   ]
  },
  {
   "cell_type": "code",
   "execution_count": 3,
   "metadata": {},
   "outputs": [],
   "source": [
    "%load_ext autoreload\n",
    "%aimport Weighted_Hybrid\n",
    "%aimport hwk3_util\n",
    "%autoreload 2\n",
    "\n",
    "from Weighted_Hybrid import WeightedHybrid\n",
    "from hwk3_util import my_clone\n",
    "from Fallbacks import UserUserFallback, ItemItemFallback"
   ]
  },
  {
   "cell_type": "markdown",
   "metadata": {},
   "source": [
    "## 1. Implement Weighted Hybrid"
   ]
  },
  {
   "cell_type": "code",
   "execution_count": 4,
   "metadata": {},
   "outputs": [],
   "source": [
    "import unittest\n",
    "from test_weighted import test_WeightedHybrid\n",
    "\n",
    "%aimport test_weighted"
   ]
  },
  {
   "cell_type": "code",
   "execution_count": 5,
   "metadata": {},
   "outputs": [
    {
     "name": "stderr",
     "output_type": "stream",
     "text": [
      "test_more_components (test_weighted.test_WeightedHybrid) ... ok\n",
      "test_normalize_weights (test_weighted.test_WeightedHybrid) ... ok\n",
      "test_predict (test_weighted.test_WeightedHybrid) ... ok\n",
      "\n",
      "----------------------------------------------------------------------\n",
      "Ran 3 tests in 2.783s\n",
      "\n",
      "OK\n"
     ]
    },
    {
     "data": {
      "text/plain": [
       "<unittest.runner.TextTestResult run=3 errors=0 failures=0>"
      ]
     },
     "execution_count": 5,
     "metadata": {},
     "output_type": "execute_result"
    }
   ],
   "source": [
    "suite = unittest.TestLoader().loadTestsFromTestCase(test_weighted.test_WeightedHybrid)\n",
    "runner = unittest.TextTestRunner(verbosity=2)\n",
    "runner.run(suite)"
   ]
  },
  {
   "cell_type": "markdown",
   "metadata": {},
   "source": [
    "## Evaluation with RMSE"
   ]
  },
  {
   "cell_type": "code",
   "execution_count": null,
   "metadata": {},
   "outputs": [],
   "source": []
  },
  {
   "cell_type": "markdown",
   "metadata": {},
   "source": [
    "### Load ratings data"
   ]
  },
  {
   "cell_type": "code",
   "execution_count": 6,
   "metadata": {},
   "outputs": [
    {
     "data": {
      "text/html": [
       "<div>\n",
       "<style scoped>\n",
       "    .dataframe tbody tr th:only-of-type {\n",
       "        vertical-align: middle;\n",
       "    }\n",
       "\n",
       "    .dataframe tbody tr th {\n",
       "        vertical-align: top;\n",
       "    }\n",
       "\n",
       "    .dataframe thead th {\n",
       "        text-align: right;\n",
       "    }\n",
       "</style>\n",
       "<table border=\"1\" class=\"dataframe\">\n",
       "  <thead>\n",
       "    <tr style=\"text-align: right;\">\n",
       "      <th></th>\n",
       "      <th>user</th>\n",
       "      <th>item</th>\n",
       "      <th>rating</th>\n",
       "    </tr>\n",
       "  </thead>\n",
       "  <tbody>\n",
       "    <tr>\n",
       "      <th>0</th>\n",
       "      <td>12882</td>\n",
       "      <td>1</td>\n",
       "      <td>4.0</td>\n",
       "    </tr>\n",
       "    <tr>\n",
       "      <th>1</th>\n",
       "      <td>12882</td>\n",
       "      <td>32</td>\n",
       "      <td>3.5</td>\n",
       "    </tr>\n",
       "    <tr>\n",
       "      <th>2</th>\n",
       "      <td>12882</td>\n",
       "      <td>47</td>\n",
       "      <td>5.0</td>\n",
       "    </tr>\n",
       "    <tr>\n",
       "      <th>3</th>\n",
       "      <td>12882</td>\n",
       "      <td>50</td>\n",
       "      <td>5.0</td>\n",
       "    </tr>\n",
       "    <tr>\n",
       "      <th>4</th>\n",
       "      <td>12882</td>\n",
       "      <td>110</td>\n",
       "      <td>4.5</td>\n",
       "    </tr>\n",
       "  </tbody>\n",
       "</table>\n",
       "</div>"
      ],
      "text/plain": [
       "    user  item  rating\n",
       "0  12882     1     4.0\n",
       "1  12882    32     3.5\n",
       "2  12882    47     5.0\n",
       "3  12882    50     5.0\n",
       "4  12882   110     4.5"
      ]
     },
     "execution_count": 6,
     "metadata": {},
     "output_type": "execute_result"
    }
   ],
   "source": [
    "ratings = pd.read_csv('ratings.csv', encoding='latin1')\n",
    "ratings = ratings.rename(columns={'userId': 'user', 'movieId': 'item'})\n",
    "ratings = ratings.drop('timestamp', axis=1)\n",
    "ratings.head()"
   ]
  },
  {
   "cell_type": "markdown",
   "metadata": {},
   "source": [
    "### Create algorithms\n",
    "Neighbors = 20, Min neighbors = 5"
   ]
  },
  {
   "cell_type": "code",
   "execution_count": 7,
   "metadata": {},
   "outputs": [],
   "source": [
    "user = UserUserFallback(20, min_nbrs=5)\n",
    "item = ItemItemFallback(20, min_nbrs=5)"
   ]
  },
  {
   "cell_type": "markdown",
   "metadata": {},
   "source": [
    "### Weighted hybrid \n",
    "UserUser 0.8 ItemItem 0.2"
   ]
  },
  {
   "cell_type": "code",
   "execution_count": 8,
   "metadata": {},
   "outputs": [],
   "source": [
    "weighted_hybrid = WeightedHybrid([user, item], [0.8,0.2])"
   ]
  },
  {
   "cell_type": "markdown",
   "metadata": {},
   "source": [
    "### A helper function for doing the evaluation\n",
    "Makes repeated calls to `batch.predict` easier to perform.\n",
    "\n",
    "(Adapted from LKPy \"Getting started\" documentation.)"
   ]
  },
  {
   "cell_type": "code",
   "execution_count": 9,
   "metadata": {},
   "outputs": [],
   "source": [
    "def eval_preds(aname, fold, algo, train, test):\n",
    "    fittable = my_clone(algo)\n",
    "    fittable.fit(train)\n",
    "    \n",
    "    preds = batch.predict(fittable, test)\n",
    "    preds['Algorithm'] = aname\n",
    "    preds['Fold'] = fold\n",
    "    return preds"
   ]
  },
  {
   "cell_type": "markdown",
   "metadata": {},
   "source": [
    "### Perform 5-fold cross-validation\n",
    "Note that all the happens here is that predictions are generated. Evaluation is later."
   ]
  },
  {
   "cell_type": "code",
   "execution_count": 10,
   "metadata": {},
   "outputs": [
    {
     "name": "stdout",
     "output_type": "stream",
     "text": [
      "Completed fold 0\n",
      "Completed fold 1\n",
      "Completed fold 2\n",
      "Completed fold 3\n",
      "Completed fold 4\n"
     ]
    }
   ],
   "source": [
    "np.random.seed(20190303)\n",
    "\n",
    "all_preds = []\n",
    "fold = 0\n",
    "# HOMEWORK 3 TODO\n",
    "# Implement 5-fold cross-validation with user-based splitting\n",
    "# Call eval_preds for each algorithm, each fold\n",
    "# Results should be appended to all_preds\n",
    "\n",
    "# for i, tp in enumerate(xf.partition_users(ratings, 5, xf.SampleN(5))):\n",
    "#     tp.train.to_csv('ml-20m.exp/train-%d.csv' % (i,))\n",
    "#     tp.train.to_parquet('ml-20m.exp/train-%d.parquet % (i,))\n",
    "#     tp.test.to_csv('ml-20m.exp/test-%d.csv' % (i,))\n",
    "#     tp.test.to_parquet('ml-20m.exp/test-%d.parquet % (i,))\n",
    "\n",
    "algorithm_type = [(user,'UserUser'), (item,'ItemItem'), (weighted_hybrid,'Weighted Hybrid')]\n",
    "\n",
    "for train, test in xf.partition_users(ratings[['user', 'item', 'rating']],5, xf.SampleFrac(0.2)):\n",
    "    for algo in algorithm_type:\n",
    "        all_preds.append(eval_preds(algo[1], fold, algo[0], train, test))\n",
    "    print(\"Completed fold {}\".format(fold))\n",
    "    fold += 1"
   ]
  },
  {
   "cell_type": "markdown",
   "metadata": {},
   "source": [
    "### Combine all results into one data frame"
   ]
  },
  {
   "cell_type": "code",
   "execution_count": 11,
   "metadata": {},
   "outputs": [
    {
     "data": {
      "text/html": [
       "<div>\n",
       "<style scoped>\n",
       "    .dataframe tbody tr th:only-of-type {\n",
       "        vertical-align: middle;\n",
       "    }\n",
       "\n",
       "    .dataframe tbody tr th {\n",
       "        vertical-align: top;\n",
       "    }\n",
       "\n",
       "    .dataframe thead th {\n",
       "        text-align: right;\n",
       "    }\n",
       "</style>\n",
       "<table border=\"1\" class=\"dataframe\">\n",
       "  <thead>\n",
       "    <tr style=\"text-align: right;\">\n",
       "      <th></th>\n",
       "      <th>user</th>\n",
       "      <th>item</th>\n",
       "      <th>rating</th>\n",
       "      <th>prediction</th>\n",
       "      <th>Algorithm</th>\n",
       "      <th>Fold</th>\n",
       "    </tr>\n",
       "  </thead>\n",
       "  <tbody>\n",
       "    <tr>\n",
       "      <th>0</th>\n",
       "      <td>975</td>\n",
       "      <td>112852</td>\n",
       "      <td>4.0</td>\n",
       "      <td>3.930192</td>\n",
       "      <td>UserUser</td>\n",
       "      <td>0</td>\n",
       "    </tr>\n",
       "    <tr>\n",
       "      <th>1</th>\n",
       "      <td>975</td>\n",
       "      <td>4011</td>\n",
       "      <td>4.0</td>\n",
       "      <td>4.083562</td>\n",
       "      <td>UserUser</td>\n",
       "      <td>0</td>\n",
       "    </tr>\n",
       "    <tr>\n",
       "      <th>2</th>\n",
       "      <td>975</td>\n",
       "      <td>1732</td>\n",
       "      <td>4.5</td>\n",
       "      <td>4.312282</td>\n",
       "      <td>UserUser</td>\n",
       "      <td>0</td>\n",
       "    </tr>\n",
       "    <tr>\n",
       "      <th>3</th>\n",
       "      <td>975</td>\n",
       "      <td>5952</td>\n",
       "      <td>3.5</td>\n",
       "      <td>4.038854</td>\n",
       "      <td>UserUser</td>\n",
       "      <td>0</td>\n",
       "    </tr>\n",
       "    <tr>\n",
       "      <th>4</th>\n",
       "      <td>975</td>\n",
       "      <td>91658</td>\n",
       "      <td>3.5</td>\n",
       "      <td>3.986704</td>\n",
       "      <td>UserUser</td>\n",
       "      <td>0</td>\n",
       "    </tr>\n",
       "  </tbody>\n",
       "</table>\n",
       "</div>"
      ],
      "text/plain": [
       "   user    item  rating  prediction Algorithm  Fold\n",
       "0   975  112852     4.0    3.930192  UserUser     0\n",
       "1   975    4011     4.0    4.083562  UserUser     0\n",
       "2   975    1732     4.5    4.312282  UserUser     0\n",
       "3   975    5952     3.5    4.038854  UserUser     0\n",
       "4   975   91658     3.5    3.986704  UserUser     0"
      ]
     },
     "execution_count": 11,
     "metadata": {},
     "output_type": "execute_result"
    }
   ],
   "source": [
    "all_preds = pd.concat(all_preds, ignore_index=True)\n",
    "all_preds.head()"
   ]
  },
  {
   "cell_type": "markdown",
   "metadata": {},
   "source": [
    "### Compute results\n",
    "- Create an RMSE for each fold of each algorithm\n",
    "- Compute the mean and standard deviation of over the folds for each algorithm\n",
    "\n",
    "No loops. 2-3 or three lines of code. `groupby`, `apply`, and `agg` are your friends. "
   ]
  },
  {
   "cell_type": "code",
   "execution_count": 12,
   "metadata": {},
   "outputs": [],
   "source": [
    "rmse_per_fold = all_preds.groupby(['Algorithm','Fold']).apply(lambda df: rmse(df.prediction, df.rating))\n",
    "means = rmse_per_fold.groupby('Algorithm').mean()\n",
    "stds = rmse_per_fold.groupby('Algorithm').agg('std')"
   ]
  },
  {
   "cell_type": "code",
   "execution_count": 13,
   "metadata": {},
   "outputs": [
    {
     "name": "stdout",
     "output_type": "stream",
     "text": [
      "RMSE per fold per Algorithm:\n",
      " Algorithm        Fold\n",
      "ItemItem         0       0.757571\n",
      "                 1       0.743245\n",
      "                 2       0.738638\n",
      "                 3       0.803013\n",
      "                 4       0.728331\n",
      "UserUser         0       0.793968\n",
      "                 1       0.777079\n",
      "                 2       0.770060\n",
      "                 3       0.831445\n",
      "                 4       0.760025\n",
      "Weighted Hybrid  0       0.779125\n",
      "                 1       0.762325\n",
      "                 2       0.756490\n",
      "                 3       0.818690\n",
      "                 4       0.745567\n",
      "dtype: float64\n",
      "\n",
      "Mean of RMSE per fold per Algorithm:\n",
      " Algorithm\n",
      "ItemItem           0.754159\n",
      "UserUser           0.786515\n",
      "Weighted Hybrid    0.772439\n",
      "dtype: float64\n",
      "\n",
      "Standard deviations per fold per Algorithm:\n",
      " Algorithm\n",
      "ItemItem           0.029264\n",
      "UserUser           0.027999\n",
      "Weighted Hybrid    0.028559\n",
      "dtype: float64\n"
     ]
    }
   ],
   "source": [
    "print(\"RMSE per fold per Algorithm:\\n\",rmse_per_fold)\n",
    "print()\n",
    "print(\"Mean of RMSE per fold per Algorithm:\\n\",means)\n",
    "print()\n",
    "print(\"Standard deviations per fold per Algorithm:\\n\",stds)"
   ]
  },
  {
   "cell_type": "markdown",
   "metadata": {},
   "source": [
    "### Plot the experimental results\n",
    "Bar plot with error bars. Don't forget to label the y axis."
   ]
  },
  {
   "cell_type": "code",
   "execution_count": 14,
   "metadata": {},
   "outputs": [
    {
     "data": {
      "image/png": "[encoded data removed]",
      "text/plain": [
       "<Figure size 432x288 with 1 Axes>"
      ]
     },
     "metadata": {
      "needs_background": "light"
     },
     "output_type": "display_data"
    }
   ],
   "source": [
    "ax = means.plot.bar()\n",
    "ax.set_ylabel(\"RMSE Mean\")\n",
    "ax.set_title(\"RMSE Mean vs. Algorithms\")\n",
    "plt.show()"
   ]
  },
  {
   "cell_type": "code",
   "execution_count": 15,
   "metadata": {},
   "outputs": [
    {
     "data": {
      "image/png": "[encoded data removed]",
      "text/plain": [
       "<Figure size 432x288 with 1 Axes>"
      ]
     },
     "metadata": {
      "needs_background": "light"
     },
     "output_type": "display_data"
    }
   ],
   "source": [
    "ax = stds.plot.bar()\n",
    "ax.set_ylabel(\"RMSE Standard Deviations\")\n",
    "ax.set_title(\"RMSE Standard Deviations vs. Algorithms\")\n",
    "plt.show()"
   ]
  },
  {
   "cell_type": "markdown",
   "metadata": {},
   "source": [
    "## Evaluation with recall / precision"
   ]
  },
  {
   "cell_type": "markdown",
   "metadata": {},
   "source": [
    "### Helper function\n",
    "Repeated calls to `batch.recommend`. Generate 10 recommendations."
   ]
  },
  {
   "cell_type": "code",
   "execution_count": 16,
   "metadata": {},
   "outputs": [],
   "source": [
    "def eval_recs(aname, fold, algo, train, test):\n",
    "    fittable = my_clone(algo)\n",
    "    fittable = Recommender.adapt(fittable)\n",
    "    fittable.fit(train)\n",
    "    \n",
    "    users = test.user.unique()\n",
    "    recs = batch.recommend(fittable, users, 10)\n",
    "    # add the algorithm\n",
    "    recs['Algorithm'] = aname\n",
    "    recs['Fold'] = fold\n",
    "    return recs\n"
   ]
  },
  {
   "cell_type": "markdown",
   "metadata": {},
   "source": [
    "### Perform 5-fold cross-validation"
   ]
  },
  {
   "cell_type": "code",
   "execution_count": 17,
   "metadata": {},
   "outputs": [
    {
     "name": "stdout",
     "output_type": "stream",
     "text": [
      "Completed fold 0\n",
      "Completed fold 1\n",
      "Completed fold 2\n",
      "Completed fold 3\n",
      "Completed fold 4\n"
     ]
    }
   ],
   "source": [
    "np.random.seed(20190302)\n",
    "\n",
    "all_recs = []\n",
    "test_data = []\n",
    "fold = 0\n",
    "\n",
    "    # HOMEWORK 3 TODO\n",
    "    # Implement 5-fold cross-validation with user-based splitting\n",
    "    # Call eval_recs for each algorithm, each fold\n",
    "    # Results should be appended to all_recs\n",
    "    # Test data should be appended to test_data\n",
    "\n",
    "algorithm_type = [(user,'UserUser'), (item,'ItemItem'), (weighted_hybrid,'Weighted Hybrid')]\n",
    "\n",
    "for train, test in xf.partition_users(ratings[['user', 'item', 'rating']],5, xf.SampleFrac(0.2)):\n",
    "    test_data.append(test)\n",
    "    for algo in algorithm_type:\n",
    "        all_recs.append(eval_recs(algo[1], fold, algo[0], train, test))\n",
    "    print(\"Completed fold {}\".format(fold))\n",
    "    fold += 1"
   ]
  },
  {
   "cell_type": "markdown",
   "metadata": {},
   "source": [
    "### Combine results into one data frame"
   ]
  },
  {
   "cell_type": "code",
   "execution_count": 18,
   "metadata": {},
   "outputs": [
    {
     "data": {
      "text/html": [
       "<div>\n",
       "<style scoped>\n",
       "    .dataframe tbody tr th:only-of-type {\n",
       "        vertical-align: middle;\n",
       "    }\n",
       "\n",
       "    .dataframe tbody tr th {\n",
       "        vertical-align: top;\n",
       "    }\n",
       "\n",
       "    .dataframe thead th {\n",
       "        text-align: right;\n",
       "    }\n",
       "</style>\n",
       "<table border=\"1\" class=\"dataframe\">\n",
       "  <thead>\n",
       "    <tr style=\"text-align: right;\">\n",
       "      <th></th>\n",
       "      <th>item</th>\n",
       "      <th>score</th>\n",
       "      <th>user</th>\n",
       "      <th>rank</th>\n",
       "      <th>Algorithm</th>\n",
       "      <th>Fold</th>\n",
       "    </tr>\n",
       "  </thead>\n",
       "  <tbody>\n",
       "    <tr>\n",
       "      <th>0</th>\n",
       "      <td>296</td>\n",
       "      <td>4.708202</td>\n",
       "      <td>359</td>\n",
       "      <td>1</td>\n",
       "      <td>UserUser</td>\n",
       "      <td>0</td>\n",
       "    </tr>\n",
       "    <tr>\n",
       "      <th>1</th>\n",
       "      <td>7361</td>\n",
       "      <td>4.632040</td>\n",
       "      <td>359</td>\n",
       "      <td>2</td>\n",
       "      <td>UserUser</td>\n",
       "      <td>0</td>\n",
       "    </tr>\n",
       "    <tr>\n",
       "      <th>2</th>\n",
       "      <td>589</td>\n",
       "      <td>4.626236</td>\n",
       "      <td>359</td>\n",
       "      <td>3</td>\n",
       "      <td>UserUser</td>\n",
       "      <td>0</td>\n",
       "    </tr>\n",
       "    <tr>\n",
       "      <th>3</th>\n",
       "      <td>4973</td>\n",
       "      <td>4.620123</td>\n",
       "      <td>359</td>\n",
       "      <td>4</td>\n",
       "      <td>UserUser</td>\n",
       "      <td>0</td>\n",
       "    </tr>\n",
       "    <tr>\n",
       "      <th>4</th>\n",
       "      <td>1193</td>\n",
       "      <td>4.590232</td>\n",
       "      <td>359</td>\n",
       "      <td>5</td>\n",
       "      <td>UserUser</td>\n",
       "      <td>0</td>\n",
       "    </tr>\n",
       "  </tbody>\n",
       "</table>\n",
       "</div>"
      ],
      "text/plain": [
       "   item     score  user  rank Algorithm  Fold\n",
       "0   296  4.708202   359     1  UserUser     0\n",
       "1  7361  4.632040   359     2  UserUser     0\n",
       "2   589  4.626236   359     3  UserUser     0\n",
       "3  4973  4.620123   359     4  UserUser     0\n",
       "4  1193  4.590232   359     5  UserUser     0"
      ]
     },
     "execution_count": 18,
     "metadata": {},
     "output_type": "execute_result"
    }
   ],
   "source": [
    "all_recs = pd.concat(all_recs, ignore_index=True)\n",
    "all_recs.head()"
   ]
  },
  {
   "cell_type": "markdown",
   "metadata": {},
   "source": [
    "### Combine test data into a data frame\n",
    "Needed by the list-oriented evaluation metrics"
   ]
  },
  {
   "cell_type": "code",
   "execution_count": 19,
   "metadata": {},
   "outputs": [
    {
     "data": {
      "text/html": [
       "<div>\n",
       "<style scoped>\n",
       "    .dataframe tbody tr th:only-of-type {\n",
       "        vertical-align: middle;\n",
       "    }\n",
       "\n",
       "    .dataframe tbody tr th {\n",
       "        vertical-align: top;\n",
       "    }\n",
       "\n",
       "    .dataframe thead th {\n",
       "        text-align: right;\n",
       "    }\n",
       "</style>\n",
       "<table border=\"1\" class=\"dataframe\">\n",
       "  <thead>\n",
       "    <tr style=\"text-align: right;\">\n",
       "      <th></th>\n",
       "      <th>user</th>\n",
       "      <th>item</th>\n",
       "      <th>rating</th>\n",
       "    </tr>\n",
       "  </thead>\n",
       "  <tbody>\n",
       "    <tr>\n",
       "      <th>0</th>\n",
       "      <td>359</td>\n",
       "      <td>4144</td>\n",
       "      <td>3.0</td>\n",
       "    </tr>\n",
       "    <tr>\n",
       "      <th>1</th>\n",
       "      <td>359</td>\n",
       "      <td>3061</td>\n",
       "      <td>4.5</td>\n",
       "    </tr>\n",
       "    <tr>\n",
       "      <th>2</th>\n",
       "      <td>359</td>\n",
       "      <td>800</td>\n",
       "      <td>4.0</td>\n",
       "    </tr>\n",
       "    <tr>\n",
       "      <th>3</th>\n",
       "      <td>359</td>\n",
       "      <td>8985</td>\n",
       "      <td>4.0</td>\n",
       "    </tr>\n",
       "    <tr>\n",
       "      <th>4</th>\n",
       "      <td>359</td>\n",
       "      <td>48043</td>\n",
       "      <td>4.0</td>\n",
       "    </tr>\n",
       "  </tbody>\n",
       "</table>\n",
       "</div>"
      ],
      "text/plain": [
       "   user   item  rating\n",
       "0   359   4144     3.0\n",
       "1   359   3061     4.5\n",
       "2   359    800     4.0\n",
       "3   359   8985     4.0\n",
       "4   359  48043     4.0"
      ]
     },
     "execution_count": 19,
     "metadata": {},
     "output_type": "execute_result"
    }
   ],
   "source": [
    "test_data = pd.concat(test_data, ignore_index=True)\n",
    "test_data.head()"
   ]
  },
  {
   "cell_type": "markdown",
   "metadata": {},
   "source": [
    "### Computing recall and precision\n",
    "\n",
    "This step is a bit difficult, and requires an understanding of how `RecListAnalysis` works. So, I supplied the first part of the cell. \n",
    "\n",
    "- Create the `RecListAnalysis` object\n",
    "- Compute the list metrics for each user\n",
    "- Average the users in each fold for each algorithm\n",
    "- Compute mean and standard deviation for the algorithm over the folds."
   ]
  },
  {
   "cell_type": "code",
   "execution_count": 20,
   "metadata": {},
   "outputs": [],
   "source": [
    "rla = topn.RecListAnalysis()\n",
    "rla.add_metric(topn.precision)\n",
    "rla.add_metric(topn.recall)\n",
    "\n",
    "byuser_results = all_recs.groupby(['Algorithm', 'Fold']).apply(lambda df: rla.compute(df, test_data))\n",
    "\n"
   ]
  },
  {
   "cell_type": "markdown",
   "metadata": {},
   "source": [
    "### Show data frame with evaluation results"
   ]
  },
  {
   "cell_type": "code",
   "execution_count": 21,
   "metadata": {},
   "outputs": [
    {
     "data": {
      "text/html": [
       "<div>\n",
       "<style scoped>\n",
       "    .dataframe tbody tr th:only-of-type {\n",
       "        vertical-align: middle;\n",
       "    }\n",
       "\n",
       "    .dataframe tbody tr th {\n",
       "        vertical-align: top;\n",
       "    }\n",
       "\n",
       "    .dataframe thead th {\n",
       "        text-align: right;\n",
       "    }\n",
       "</style>\n",
       "<table border=\"1\" class=\"dataframe\">\n",
       "  <thead>\n",
       "    <tr style=\"text-align: right;\">\n",
       "      <th></th>\n",
       "      <th></th>\n",
       "      <th></th>\n",
       "      <th></th>\n",
       "      <th></th>\n",
       "      <th>precision</th>\n",
       "      <th>recall</th>\n",
       "    </tr>\n",
       "    <tr>\n",
       "      <th>Algorithm</th>\n",
       "      <th>Fold</th>\n",
       "      <th>user</th>\n",
       "      <th>Algorithm</th>\n",
       "      <th>Fold</th>\n",
       "      <th></th>\n",
       "      <th></th>\n",
       "    </tr>\n",
       "  </thead>\n",
       "  <tbody>\n",
       "    <tr>\n",
       "      <th rowspan=\"5\" valign=\"top\">ItemItem</th>\n",
       "      <th rowspan=\"5\" valign=\"top\">0</th>\n",
       "      <th>359</th>\n",
       "      <th>ItemItem</th>\n",
       "      <th>0</th>\n",
       "      <td>0.2</td>\n",
       "      <td>0.011976</td>\n",
       "    </tr>\n",
       "    <tr>\n",
       "      <th>1015</th>\n",
       "      <th>ItemItem</th>\n",
       "      <th>0</th>\n",
       "      <td>0.2</td>\n",
       "      <td>0.035714</td>\n",
       "    </tr>\n",
       "    <tr>\n",
       "      <th>1387</th>\n",
       "      <th>ItemItem</th>\n",
       "      <th>0</th>\n",
       "      <td>0.0</td>\n",
       "      <td>0.000000</td>\n",
       "    </tr>\n",
       "    <tr>\n",
       "      <th>2702</th>\n",
       "      <th>ItemItem</th>\n",
       "      <th>0</th>\n",
       "      <td>0.1</td>\n",
       "      <td>0.013889</td>\n",
       "    </tr>\n",
       "    <tr>\n",
       "      <th>4483</th>\n",
       "      <th>ItemItem</th>\n",
       "      <th>0</th>\n",
       "      <td>0.1</td>\n",
       "      <td>0.012658</td>\n",
       "    </tr>\n",
       "  </tbody>\n",
       "</table>\n",
       "</div>"
      ],
      "text/plain": [
       "                                    precision    recall\n",
       "Algorithm Fold user Algorithm Fold                     \n",
       "ItemItem  0    359  ItemItem  0           0.2  0.011976\n",
       "               1015 ItemItem  0           0.2  0.035714\n",
       "               1387 ItemItem  0           0.0  0.000000\n",
       "               2702 ItemItem  0           0.1  0.013889\n",
       "               4483 ItemItem  0           0.1  0.012658"
      ]
     },
     "execution_count": 21,
     "metadata": {},
     "output_type": "execute_result"
    }
   ],
   "source": [
    "byuser_results.head()"
   ]
  },
  {
   "cell_type": "code",
   "execution_count": 66,
   "metadata": {},
   "outputs": [
    {
     "name": "stdout",
     "output_type": "stream",
     "text": [
      "Precision Mean: \n",
      " Algorithm\n",
      "ItemItem           0.117981\n",
      "UserUser           0.165777\n",
      "Weighted Hybrid    0.170534\n",
      "Name: precision, dtype: float64\n",
      "\n",
      "Recall Mean: \n",
      " Algorithm\n",
      "ItemItem           0.023115\n",
      "UserUser           0.029226\n",
      "Weighted Hybrid    0.030523\n",
      "Name: recall, dtype: float64\n"
     ]
    }
   ],
   "source": [
    "precision_mean = byuser_results.groupby('Algorithm')['precision'].mean()\n",
    "recall_mean = byuser_results.groupby('Algorithm')['recall'].mean()\n",
    "print(\"Precision Mean: \\n\",precision_mean)\n",
    "print()\n",
    "print(\"Recall Mean: \\n\", recall_mean)"
   ]
  },
  {
   "cell_type": "code",
   "execution_count": 65,
   "metadata": {},
   "outputs": [
    {
     "name": "stdout",
     "output_type": "stream",
     "text": [
      "Precision Standard Deviation: \n",
      " Algorithm\n",
      "ItemItem           0.160180\n",
      "UserUser           0.182957\n",
      "Weighted Hybrid    0.188248\n",
      "Name: precision, dtype: float64\n",
      "\n",
      "Recall Standard deviation: \n",
      " Algorithm\n",
      "ItemItem           0.040645\n",
      "UserUser           0.038085\n",
      "Weighted Hybrid    0.039273\n",
      "Name: recall, dtype: float64\n"
     ]
    }
   ],
   "source": [
    "precision_std = byuser_results.groupby('Algorithm')['precision'].std()\n",
    "recall_std = byuser_results.groupby('Algorithm')['recall'].std()\n",
    "print(\"Precision Standard Deviation: \\n\",precision_std)\n",
    "print()\n",
    "print(\"Recall Standard deviation: \\n\", recall_std)"
   ]
  },
  {
   "cell_type": "markdown",
   "metadata": {},
   "source": [
    "### Bar plot of precision\n",
    "Similar to above with error bars."
   ]
  },
  {
   "cell_type": "code",
   "execution_count": 24,
   "metadata": {
    "scrolled": true
   },
   "outputs": [
    {
     "data": {
      "image/png": "[encoded data removed]",
      "text/plain": [
       "<Figure size 432x288 with 1 Axes>"
      ]
     },
     "metadata": {
      "needs_background": "light"
     },
     "output_type": "display_data"
    }
   ],
   "source": [
    "ax = precision_mean.plot.bar()\n",
    "ax.set_ylabel(\"Precision Mean\")\n",
    "ax.set_title(\"Precision Mean vs. Algorithms\")\n",
    "plt.show()"
   ]
  },
  {
   "cell_type": "code",
   "execution_count": 25,
   "metadata": {},
   "outputs": [
    {
     "data": {
      "image/png": "[encoded data removed]",
      "text/plain": [
       "<Figure size 432x288 with 1 Axes>"
      ]
     },
     "metadata": {
      "needs_background": "light"
     },
     "output_type": "display_data"
    }
   ],
   "source": [
    "ax = precision_std.plot.bar()\n",
    "ax.set_ylabel(\"Precision Standard Deviations\")\n",
    "ax.set_title(\"Precision Standard Deviations vs. Algorithms\")\n",
    "plt.show()"
   ]
  },
  {
   "cell_type": "markdown",
   "metadata": {},
   "source": [
    "### Bar plot of recall\n",
    "As above"
   ]
  },
  {
   "cell_type": "code",
   "execution_count": 26,
   "metadata": {},
   "outputs": [
    {
     "data": {
      "image/png": "[encoded data removed]",
      "text/plain": [
       "<Figure size 432x288 with 1 Axes>"
      ]
     },
     "metadata": {
      "needs_background": "light"
     },
     "output_type": "display_data"
    }
   ],
   "source": [
    "ax = recall_mean.plot.bar()\n",
    "ax.set_ylabel(\"Recall Mean\")\n",
    "ax.set_title(\"Recall Mean vs. Algorithms\")\n",
    "plt.show()"
   ]
  },
  {
   "cell_type": "code",
   "execution_count": 27,
   "metadata": {},
   "outputs": [
    {
     "data": {
      "image/png": "[encoded data removed]",
      "text/plain": [
       "<Figure size 432x288 with 1 Axes>"
      ]
     },
     "metadata": {
      "needs_background": "light"
     },
     "output_type": "display_data"
    }
   ],
   "source": [
    "ax = recall_std.plot.bar()\n",
    "ax.set_ylabel(\"Recall Standard Deviations\")\n",
    "ax.set_title(\"Recall Standard Deviations vs. Algorithms\")\n",
    "plt.show()"
   ]
  },
  {
   "cell_type": "markdown",
   "metadata": {},
   "source": [
    "### (Optional) Scatter plot of recall / precision\n",
    "See example"
   ]
  },
  {
   "cell_type": "code",
   "execution_count": 28,
   "metadata": {},
   "outputs": [
    {
     "data": {
      "image/png": "[encoded data removed]",
      "text/plain": [
       "<Figure size 432x288 with 1 Axes>"
      ]
     },
     "metadata": {
      "needs_background": "light"
     },
     "output_type": "display_data"
    }
   ],
   "source": [
    "# ax = precision_mean.plot.scatter(x='Algorithm', y='Precision Mean', c='DarkBlue')\n",
    "from matplotlib import cm\n",
    "from matplotlib import colors\n",
    "fig, ax = plt.subplots()\n",
    "\n",
    "df = pd.DataFrame({'Precision':precision_mean.values, 'Recall':recall_mean.values, 'Algorithm':['ItemItem', 'UserUser', 'Weighted Hybrid']})\n",
    "\n",
    "colormap = cm.viridis\n",
    "colorlist = [colors.rgb2hex(colormap(i)) for i in np.linspace(0, 0.9, len(df['Algorithm']))]\n",
    "\n",
    "for i,c in enumerate(colorlist):\n",
    "    x = df['Recall'][i]\n",
    "    y = df['Precision'][i]\n",
    "    l = df['Algorithm'][i]\n",
    "    ax.scatter(x, y, label=l, marker='x', c=c)\n",
    "ax.legend()\n",
    "ax.set_xlabel('Recall')\n",
    "ax.set_ylabel('Precision')\n",
    "ax.set_title('Precision vs. Recall (Mean)')\n",
    "plt.show()"
   ]
  },
  {
   "cell_type": "markdown",
   "metadata": {},
   "source": [
    "## INFO 5871 only\n",
    "In this section, you will attempt to use linear regression to learn optimal weights for the hybrid. The process is as follows:\n",
    "\n",
    "- Extract one of the five partitions from the cross-validation iterator. This will be used to learn the weights and then not used for evaluation.\n",
    "- Train the user-based and item-based algorithms on this partition.\n",
    "- Use `batch.predict` to compute predictions over the test data.\n",
    "- Construct a linear regression (`sklearn.linear_model` with `fit_intercept` equal to `False`) with the real test set ratings as the predicted variable and the predictions of the two algorithms as the independent variables.\n",
    "- Use the coefficients learned by this process to construct a new hybrid.\n",
    "- Use the remaining four folds of the data to do an evaluation, collecting both prediction values and recommendation lists.\n",
    "- Following the same methodology as above, produce plots (with error bars) of RMSE and nDCG.\n",
    "- Don't forget to answer the question at the end."
   ]
  },
  {
   "cell_type": "code",
   "execution_count": 29,
   "metadata": {},
   "outputs": [],
   "source": [
    "from sklearn.linear_model import LinearRegression"
   ]
  },
  {
   "cell_type": "markdown",
   "metadata": {},
   "source": [
    "### Get one partition for training weights"
   ]
  },
  {
   "cell_type": "code",
   "execution_count": 30,
   "metadata": {},
   "outputs": [],
   "source": [
    "np.random.seed(20190302)\n",
    "partitions = list(xf.partition_users(ratings[['user', 'item', 'rating']], 5, xf.SampleFrac(0.2)))\n",
    "train, test = partitions[0]"
   ]
  },
  {
   "cell_type": "code",
   "execution_count": 31,
   "metadata": {},
   "outputs": [],
   "source": [
    "reg_user = UserUserFallback(20, min_nbrs=5)\n",
    "reg_item = ItemItemFallback(20, min_nbrs=5)"
   ]
  },
  {
   "cell_type": "markdown",
   "metadata": {},
   "source": [
    "### Train and predict components on first partition"
   ]
  },
  {
   "cell_type": "code",
   "execution_count": 32,
   "metadata": {},
   "outputs": [],
   "source": [
    "# UserUser\n",
    "fittable = my_clone(reg_user)\n",
    "fittable.fit(train) \n",
    "pred_user = batch.predict(fittable, test)"
   ]
  },
  {
   "cell_type": "code",
   "execution_count": 33,
   "metadata": {},
   "outputs": [],
   "source": [
    "# ItemItem\n",
    "fittable = my_clone(reg_item)\n",
    "fittable.fit(train) \n",
    "pred_item = batch.predict(fittable, test)"
   ]
  },
  {
   "cell_type": "code",
   "execution_count": 34,
   "metadata": {},
   "outputs": [
    {
     "data": {
      "text/html": [
       "<div>\n",
       "<style scoped>\n",
       "    .dataframe tbody tr th:only-of-type {\n",
       "        vertical-align: middle;\n",
       "    }\n",
       "\n",
       "    .dataframe tbody tr th {\n",
       "        vertical-align: top;\n",
       "    }\n",
       "\n",
       "    .dataframe thead th {\n",
       "        text-align: right;\n",
       "    }\n",
       "</style>\n",
       "<table border=\"1\" class=\"dataframe\">\n",
       "  <thead>\n",
       "    <tr style=\"text-align: right;\">\n",
       "      <th></th>\n",
       "      <th>user</th>\n",
       "      <th>item</th>\n",
       "      <th>rating</th>\n",
       "      <th>prediction</th>\n",
       "    </tr>\n",
       "  </thead>\n",
       "  <tbody>\n",
       "    <tr>\n",
       "      <th>82397</th>\n",
       "      <td>359</td>\n",
       "      <td>4144</td>\n",
       "      <td>3.0</td>\n",
       "      <td>4.143361</td>\n",
       "    </tr>\n",
       "    <tr>\n",
       "      <th>82312</th>\n",
       "      <td>359</td>\n",
       "      <td>3061</td>\n",
       "      <td>4.5</td>\n",
       "      <td>3.886495</td>\n",
       "    </tr>\n",
       "    <tr>\n",
       "      <th>82010</th>\n",
       "      <td>359</td>\n",
       "      <td>800</td>\n",
       "      <td>4.0</td>\n",
       "      <td>4.028620</td>\n",
       "    </tr>\n",
       "    <tr>\n",
       "      <th>82589</th>\n",
       "      <td>359</td>\n",
       "      <td>8985</td>\n",
       "      <td>4.0</td>\n",
       "      <td>2.448638</td>\n",
       "    </tr>\n",
       "    <tr>\n",
       "      <th>82659</th>\n",
       "      <td>359</td>\n",
       "      <td>48043</td>\n",
       "      <td>4.0</td>\n",
       "      <td>3.896176</td>\n",
       "    </tr>\n",
       "  </tbody>\n",
       "</table>\n",
       "</div>"
      ],
      "text/plain": [
       "       user   item  rating  prediction\n",
       "82397   359   4144     3.0    4.143361\n",
       "82312   359   3061     4.5    3.886495\n",
       "82010   359    800     4.0    4.028620\n",
       "82589   359   8985     4.0    2.448638\n",
       "82659   359  48043     4.0    3.896176"
      ]
     },
     "execution_count": 34,
     "metadata": {},
     "output_type": "execute_result"
    }
   ],
   "source": [
    "pred_user.head()"
   ]
  },
  {
   "cell_type": "code",
   "execution_count": 35,
   "metadata": {},
   "outputs": [
    {
     "data": {
      "text/html": [
       "<div>\n",
       "<style scoped>\n",
       "    .dataframe tbody tr th:only-of-type {\n",
       "        vertical-align: middle;\n",
       "    }\n",
       "\n",
       "    .dataframe tbody tr th {\n",
       "        vertical-align: top;\n",
       "    }\n",
       "\n",
       "    .dataframe thead th {\n",
       "        text-align: right;\n",
       "    }\n",
       "</style>\n",
       "<table border=\"1\" class=\"dataframe\">\n",
       "  <thead>\n",
       "    <tr style=\"text-align: right;\">\n",
       "      <th></th>\n",
       "      <th>user</th>\n",
       "      <th>item</th>\n",
       "      <th>rating</th>\n",
       "      <th>prediction</th>\n",
       "    </tr>\n",
       "  </thead>\n",
       "  <tbody>\n",
       "    <tr>\n",
       "      <th>82397</th>\n",
       "      <td>359</td>\n",
       "      <td>4144</td>\n",
       "      <td>3.0</td>\n",
       "      <td>3.849022</td>\n",
       "    </tr>\n",
       "    <tr>\n",
       "      <th>82312</th>\n",
       "      <td>359</td>\n",
       "      <td>3061</td>\n",
       "      <td>4.5</td>\n",
       "      <td>3.931315</td>\n",
       "    </tr>\n",
       "    <tr>\n",
       "      <th>82010</th>\n",
       "      <td>359</td>\n",
       "      <td>800</td>\n",
       "      <td>4.0</td>\n",
       "      <td>4.325859</td>\n",
       "    </tr>\n",
       "    <tr>\n",
       "      <th>82589</th>\n",
       "      <td>359</td>\n",
       "      <td>8985</td>\n",
       "      <td>4.0</td>\n",
       "      <td>2.810591</td>\n",
       "    </tr>\n",
       "    <tr>\n",
       "      <th>82659</th>\n",
       "      <td>359</td>\n",
       "      <td>48043</td>\n",
       "      <td>4.0</td>\n",
       "      <td>3.680990</td>\n",
       "    </tr>\n",
       "  </tbody>\n",
       "</table>\n",
       "</div>"
      ],
      "text/plain": [
       "       user   item  rating  prediction\n",
       "82397   359   4144     3.0    3.849022\n",
       "82312   359   3061     4.5    3.931315\n",
       "82010   359    800     4.0    4.325859\n",
       "82589   359   8985     4.0    2.810591\n",
       "82659   359  48043     4.0    3.680990"
      ]
     },
     "execution_count": 35,
     "metadata": {},
     "output_type": "execute_result"
    }
   ],
   "source": [
    "pred_item.head()"
   ]
  },
  {
   "cell_type": "markdown",
   "metadata": {},
   "source": [
    "### Create numpy arrays of predictions and actual ratings"
   ]
  },
  {
   "cell_type": "code",
   "execution_count": 36,
   "metadata": {},
   "outputs": [],
   "source": [
    "user_array = pred_user.prediction.values #take column in numpy\n",
    "item_array = pred_item.prediction.values  "
   ]
  },
  {
   "cell_type": "code",
   "execution_count": 37,
   "metadata": {},
   "outputs": [],
   "source": [
    "predictions = np.stack((user_array,item_array), axis = 1)\n",
    "actuals = test.rating.values"
   ]
  },
  {
   "cell_type": "markdown",
   "metadata": {},
   "source": [
    "### Run linear regression\n",
    "fit_intercept = False"
   ]
  },
  {
   "cell_type": "code",
   "execution_count": 38,
   "metadata": {},
   "outputs": [],
   "source": [
    "linear_regression = LinearRegression(fit_intercept=False).fit(predictions, actuals)"
   ]
  },
  {
   "cell_type": "markdown",
   "metadata": {},
   "source": [
    "### Print regression coefficients"
   ]
  },
  {
   "cell_type": "code",
   "execution_count": 39,
   "metadata": {},
   "outputs": [
    {
     "data": {
      "text/plain": [
       "array([0.16141287, 0.82814307])"
      ]
     },
     "execution_count": 39,
     "metadata": {},
     "output_type": "execute_result"
    }
   ],
   "source": [
    "linear_regression.coef_"
   ]
  },
  {
   "cell_type": "markdown",
   "metadata": {},
   "source": [
    "### Create hybrid with regression coefficients as weights"
   ]
  },
  {
   "cell_type": "code",
   "execution_count": 53,
   "metadata": {},
   "outputs": [],
   "source": [
    "reg_weighted_hybrid = WeightedHybrid([reg_user, reg_item], linear_regression.coef_)"
   ]
  },
  {
   "cell_type": "markdown",
   "metadata": {},
   "source": [
    "### Run experiment\n",
    "Do both prediction and recommendation experiments"
   ]
  },
  {
   "cell_type": "code",
   "execution_count": 54,
   "metadata": {},
   "outputs": [
    {
     "name": "stdout",
     "output_type": "stream",
     "text": [
      "Completed fold 0\n",
      "Completed fold 1\n",
      "Completed fold 2\n",
      "Completed fold 3\n"
     ]
    }
   ],
   "source": [
    "np.random.seed(20190303)\n",
    "\n",
    "all_preds2 = []\n",
    "fold = 0\n",
    "all_recs2 = []\n",
    "test_data2 = []\n",
    "\n",
    "algorithm_type = [(reg_user,'UserUser'), (reg_item,'ItemItem'), (reg_weighted_hybrid,'Weighted Hybrid')]\n",
    "\n",
    "for train, test in partitions[1:]:\n",
    "    test_data2.append(test)\n",
    "    for algo in algorithm_type:\n",
    "        all_preds2.append(eval_preds(algo[1], fold, algo[0], train, test))\n",
    "        all_recs2.append(eval_recs(algo[1], fold, algo[0], train, test))\n",
    "    print(\"Completed fold {}\".format(fold))\n",
    "    fold += 1"
   ]
  },
  {
   "cell_type": "markdown",
   "metadata": {},
   "source": [
    "### Compute RMSE results\n",
    "Average over the four folds"
   ]
  },
  {
   "cell_type": "code",
   "execution_count": 55,
   "metadata": {},
   "outputs": [],
   "source": [
    "all_preds2 = pd.concat(all_preds2, ignore_index=True)\n",
    "all_recs2 = pd.concat(all_recs2, ignore_index=True)\n",
    "test_data2 = pd.concat(test_data2, ignore_index=True)"
   ]
  },
  {
   "cell_type": "code",
   "execution_count": 64,
   "metadata": {},
   "outputs": [
    {
     "name": "stdout",
     "output_type": "stream",
     "text": [
      "RMSE Mean: \n",
      " Algorithm\n",
      "ItemItem           0.757763\n",
      "UserUser           0.788136\n",
      "Weighted Hybrid    0.756076\n",
      "dtype: float64\n",
      "\n",
      "RMSE Standard deviation: \n",
      " Algorithm\n",
      "ItemItem           0.019112\n",
      "UserUser           0.018543\n",
      "Weighted Hybrid    0.019099\n",
      "dtype: float64\n"
     ]
    }
   ],
   "source": [
    "rmse_per_fold = all_preds2.groupby(['Algorithm', 'Fold']).apply(lambda df: rmse(df.prediction, df.rating))\n",
    "means = rmse_per_fold.groupby('Algorithm').mean()\n",
    "stds = rmse_per_fold.groupby('Algorithm').std()\n",
    "print(\"RMSE Mean: \\n\",means)\n",
    "print()\n",
    "print(\"RMSE Standard deviation: \\n\", stds)\n"
   ]
  },
  {
   "cell_type": "markdown",
   "metadata": {},
   "source": [
    "### Display RMSE bar plot with error bars"
   ]
  },
  {
   "cell_type": "code",
   "execution_count": 57,
   "metadata": {},
   "outputs": [
    {
     "data": {
      "image/png": "[encoded data removed]",
      "text/plain": [
       "<Figure size 432x288 with 1 Axes>"
      ]
     },
     "metadata": {
      "needs_background": "light"
     },
     "output_type": "display_data"
    }
   ],
   "source": [
    "ax = means.plot.bar()\n",
    "ax.set_ylabel(\"RMSE Mean\")\n",
    "ax.set_title(\"RMSE Mean vs. Algorithms\")\n",
    "plt.show()"
   ]
  },
  {
   "cell_type": "code",
   "execution_count": 58,
   "metadata": {},
   "outputs": [
    {
     "data": {
      "image/png": "[encoded data removed]",
      "text/plain": [
       "<Figure size 432x288 with 1 Axes>"
      ]
     },
     "metadata": {
      "needs_background": "light"
     },
     "output_type": "display_data"
    }
   ],
   "source": [
    "ax = stds.plot.bar()\n",
    "ax.set_ylabel(\"RMSE Standard Deviations\")\n",
    "ax.set_title(\"RMSE Standard Deviations vs. Algorithms\")\n",
    "plt.show()"
   ]
  },
  {
   "cell_type": "markdown",
   "metadata": {},
   "source": [
    "### Compute nDCG\n",
    "Average the users over each fold, then average the folds"
   ]
  },
  {
   "cell_type": "code",
   "execution_count": 59,
   "metadata": {},
   "outputs": [
    {
     "data": {
      "text/html": [
       "<div>\n",
       "<style scoped>\n",
       "    .dataframe tbody tr th:only-of-type {\n",
       "        vertical-align: middle;\n",
       "    }\n",
       "\n",
       "    .dataframe tbody tr th {\n",
       "        vertical-align: top;\n",
       "    }\n",
       "\n",
       "    .dataframe thead th {\n",
       "        text-align: right;\n",
       "    }\n",
       "</style>\n",
       "<table border=\"1\" class=\"dataframe\">\n",
       "  <thead>\n",
       "    <tr style=\"text-align: right;\">\n",
       "      <th></th>\n",
       "      <th></th>\n",
       "      <th></th>\n",
       "      <th></th>\n",
       "      <th></th>\n",
       "      <th>ndcg</th>\n",
       "    </tr>\n",
       "    <tr>\n",
       "      <th>Algorithm</th>\n",
       "      <th>Fold</th>\n",
       "      <th>user</th>\n",
       "      <th>Algorithm</th>\n",
       "      <th>Fold</th>\n",
       "      <th></th>\n",
       "    </tr>\n",
       "  </thead>\n",
       "  <tbody>\n",
       "    <tr>\n",
       "      <th rowspan=\"5\" valign=\"top\">ItemItem</th>\n",
       "      <th rowspan=\"5\" valign=\"top\">0</th>\n",
       "      <th>1738</th>\n",
       "      <th>ItemItem</th>\n",
       "      <th>0</th>\n",
       "      <td>0.042091</td>\n",
       "    </tr>\n",
       "    <tr>\n",
       "      <th>1935</th>\n",
       "      <th>ItemItem</th>\n",
       "      <th>0</th>\n",
       "      <td>0.000000</td>\n",
       "    </tr>\n",
       "    <tr>\n",
       "      <th>2847</th>\n",
       "      <th>ItemItem</th>\n",
       "      <th>0</th>\n",
       "      <td>0.126752</td>\n",
       "    </tr>\n",
       "    <tr>\n",
       "      <th>2988</th>\n",
       "      <th>ItemItem</th>\n",
       "      <th>0</th>\n",
       "      <td>0.059240</td>\n",
       "    </tr>\n",
       "    <tr>\n",
       "      <th>3665</th>\n",
       "      <th>ItemItem</th>\n",
       "      <th>0</th>\n",
       "      <td>0.094552</td>\n",
       "    </tr>\n",
       "  </tbody>\n",
       "</table>\n",
       "</div>"
      ],
      "text/plain": [
       "                                        ndcg\n",
       "Algorithm Fold user Algorithm Fold          \n",
       "ItemItem  0    1738 ItemItem  0     0.042091\n",
       "               1935 ItemItem  0     0.000000\n",
       "               2847 ItemItem  0     0.126752\n",
       "               2988 ItemItem  0     0.059240\n",
       "               3665 ItemItem  0     0.094552"
      ]
     },
     "execution_count": 59,
     "metadata": {},
     "output_type": "execute_result"
    }
   ],
   "source": [
    "rla2 = topn.RecListAnalysis()\n",
    "rla2.add_metric(topn.ndcg)\n",
    "\n",
    "byuser_results2 = all_recs2.groupby(['Algorithm', 'Fold']).apply(lambda df: rla2.compute(df, test_data2))\n",
    "byuser_results2.head()"
   ]
  },
  {
   "cell_type": "code",
   "execution_count": 60,
   "metadata": {},
   "outputs": [
    {
     "data": {
      "text/plain": [
       "Algorithm\n",
       "ItemItem           0.047627\n",
       "UserUser           0.067467\n",
       "Weighted Hybrid    0.056393\n",
       "Name: ndcg, dtype: float64"
      ]
     },
     "execution_count": 60,
     "metadata": {},
     "output_type": "execute_result"
    }
   ],
   "source": [
    "ndcg_mean = byuser_results2.groupby('Algorithm')['ndcg'].mean()\n",
    "ndcg_mean.head()"
   ]
  },
  {
   "cell_type": "code",
   "execution_count": 61,
   "metadata": {},
   "outputs": [
    {
     "data": {
      "text/plain": [
       "Algorithm\n",
       "ItemItem           0.063558\n",
       "UserUser           0.069732\n",
       "Weighted Hybrid    0.068217\n",
       "Name: ndcg, dtype: float64"
      ]
     },
     "execution_count": 61,
     "metadata": {},
     "output_type": "execute_result"
    }
   ],
   "source": [
    "ndcg_std = byuser_results2.groupby('Algorithm')['ndcg'].std()\n",
    "ndcg_std.head()"
   ]
  },
  {
   "cell_type": "markdown",
   "metadata": {},
   "source": [
    "### Display nDCG bar plot with error bars"
   ]
  },
  {
   "cell_type": "code",
   "execution_count": 62,
   "metadata": {},
   "outputs": [
    {
     "data": {
      "image/png": "[encoded data removed]",
      "text/plain": [
       "<Figure size 432x288 with 1 Axes>"
      ]
     },
     "metadata": {
      "needs_background": "light"
     },
     "output_type": "display_data"
    }
   ],
   "source": [
    "ax = ndcg_mean.plot.bar()\n",
    "ax.set_ylabel(\"nDCG Mean\")\n",
    "ax.set_title(\"nDCG Mean vs. Algorithms\")\n",
    "plt.show()"
   ]
  },
  {
   "cell_type": "code",
   "execution_count": 63,
   "metadata": {},
   "outputs": [
    {
     "data": {
      "image/png": "[encoded data removed]",
      "text/plain": [
       "<Figure size 432x288 with 1 Axes>"
      ]
     },
     "metadata": {
      "needs_background": "light"
     },
     "output_type": "display_data"
    }
   ],
   "source": [
    "ax = ndcg_std.plot.bar()\n",
    "ax.set_ylabel(\"nDCG Standard Deviation\")\n",
    "ax.set_title(\"nDCG Standard Deviation vs. Algorithms\")\n",
    "plt.show()"
   ]
  },
  {
   "cell_type": "markdown",
   "metadata": {},
   "source": [
    "### Question:\n",
    "The optimization procedure produces a hybrid that has a lower RMSE than either component. But that hybrid does not have the highest nDCG. Why did this happen? What must be true about the distribution of errors such that this hybrid does not produce the best ranking?"
   ]
  },
  {
   "cell_type": "markdown",
   "metadata": {},
   "source": [
    "__Solution__ . \n",
    ">__nDCG__ measures the performance of a recommendation system based on the graded relevance of the recommended entities. Closer the value of nDCG to 1, more correlated are the entitites.\n",
    "\n",
    ">__RMSE__ is generally used for evaluating accuracy of predicted ratings. RMSE also depends on the __total number of ratings__.\n",
    "\n",
    ">The reason for low RMSE and low nDCG could be   \n",
    "- The weight for ItemItem algorithm is much greater than the weight for UserUser. Thus, predictions for hybrid will be closer to the predictions for ItemItem. Since, RMSE of ItemItem is low, RMSE for hybrid may tend to be low too. \n",
    "- Training is focused on items with the most ratings which will achieve a good fit for such items. So, more the data(ratings) for each item/user better will be the training and hence the fit. But items/users with few ratings don’t mean much in terms of their impact on the loss(RMSE). As a result, predictions for these items/users will be off. Some will get scores much higher, some will get much lower than actual. Thus, it's possible that the RMSE is low even though the predictions are off since those items/users have less ratings. And since predictions are off, recommendations will be off, hence, ranking will be incorrect which explains low nDCG for hybrid."
   ]
  },
  {
   "cell_type": "code",
   "execution_count": null,
   "metadata": {},
   "outputs": [],
   "source": []
  }
 ],
 "metadata": {
  "kernelspec": {
   "display_name": "Python 3",
   "language": "python",
   "name": "python3"
  },
  "language_info": {
   "codemirror_mode": {
    "name": "ipython",
    "version": 3
   },
   "file_extension": ".py",
   "mimetype": "text/x-python",
   "name": "python",
   "nbconvert_exporter": "python",
   "pygments_lexer": "ipython3",
   "version": "3.7.1"
  }
 },
 "nbformat": 4,
 "nbformat_minor": 2
}
