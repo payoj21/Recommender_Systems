{
 "cells": [
  {
   "cell_type": "markdown",
   "metadata": {},
   "source": [
    "# Homework 2\n",
    "- INFO 4871 _or_ INFO 5871 (indicate)\n",
    "- Spring 2019\n",
    "- Payoj Jain"
   ]
  },
  {
   "cell_type": "markdown",
   "metadata": {},
   "source": [
    "## Objective (all students)\n",
    "The object of this assignment is to implement a basic user-knn recommendation algorithm as a Python class. I am supplying six files to help you do this:\n",
    "\n",
    "- This file (Jupyter notebook) acts a driver for your class. You will run this notebook _last_ after your implementation is complete to demonstrate that it works.\n",
    "- The python file `User_KNN.py`, which contains a commented implementation skeleton of the `User_KNN` class. You will finish out this implementation. \n",
    "- The python file `test_User_KNN.py`, which contains an incomplete unit test for the `User_KNN` class.\n",
    "- The Excel file `test_data.xlsx`. You will use this to compute by hand the missing correct values for the tests `test_similarities_hwk2` and `test_predictions_hwk2`. \n",
    "- The file `test_ratings.csv`, which contains the same ratings as in the `test_data.xlsx` file.\n",
    "- The file `ratings_film_3.txt`, which contains movie ratings from the FilmTrust data set. \n",
    "\n",
    "Turn in the following in a zip file:\n",
    "\n",
    "- Homework 2.html file computed from this worksheet after your implementation is complete.\n",
    "- Homework 2.ipynb (this file) run after your implementation is complete.\n",
    "- test_User_KNN.py file with the test functions complete and working with your User_KNN implementation\n",
    "- User_KNN.py file with completed implementation\n",
    "- test_data.xslx file showing the values needed for the test case computed"
   ]
  },
  {
   "cell_type": "markdown",
   "metadata": {},
   "source": [
    "## Objective (INFO 5871 only)\n",
    "In addition to the objectives above, you will implement a second user-knn recommendation algorithm named `User_KNN2`. This one will add the following features to the implementation described above:\n",
    "\n",
    "- Default prediction. If there are fewer than `min_users` in the prediction neighborhood, the algorithm will return the item mean as the prediction, rather than computing a prediction.\n",
    "- Shrinkage. The algorithm will implement similarity shrinkage as described in class. All similarities scores will be multiplied by $\\frac{|P_u \\cap P_v|}{\\beta + |P_u \\cap P_v|}$, where $\\beta$ is supplied in the constructor.\n",
    "- Generalized labels. The code in `User_KNN.py` assumes that the data frame given to `fit` has columns `'userId'`, `'movieId'` and `'rating'`. `User_KNN2` will accept data frames with arbitrary column names, and the mapping of labels to user, item, and rating is input to the constructor.\n",
    "- You will write your own unit test for `User_KNN2`, which contains all of the same tests as `test_User_KNN` but with the correct values as computed in a second page of the `test_data.xslx` spreadsheet.\n",
    "\n",
    "Turn in the following in a zip file:\n",
    "\n",
    "- Everything from the \"all students\" objective above.\n",
    "- User_KNN2.py implementation\n",
    "- test_User_KNN2.py implementation working with your User_KNN2 implementation"
   ]
  },
  {
   "cell_type": "code",
   "execution_count": 1,
   "metadata": {},
   "outputs": [],
   "source": [
    "import pandas as pd\n",
    "import matplotlib.pyplot as plt\n",
    "import numpy as np\n",
    "import logging\n",
    "from heapq import nlargest\n",
    "%matplotlib inline"
   ]
  },
  {
   "cell_type": "code",
   "execution_count": 2,
   "metadata": {},
   "outputs": [],
   "source": [
    "%load_ext autoreload\n",
    "%aimport User_KNN\n",
    "%autoreload 2\n",
    "\n",
    "from User_KNN import User_KNN"
   ]
  },
  {
   "cell_type": "code",
   "execution_count": 3,
   "metadata": {},
   "outputs": [],
   "source": [
    "import unittest\n",
    "from test_User_KNN import test_User_KNN\n",
    "\n",
    "%aimport test_User_KNN"
   ]
  },
  {
   "cell_type": "code",
   "execution_count": 4,
   "metadata": {},
   "outputs": [
    {
     "name": "stderr",
     "output_type": "stream",
     "text": [
      "test_get_items (test_User_KNN.test_User_KNN) ... ok\n",
      "test_get_overlap (test_User_KNN.test_User_KNN) ... ok\n",
      "test_get_profile (test_User_KNN.test_User_KNN) ... "
     ]
    },
    {
     "name": "stdout",
     "output_type": "stream",
     "text": [
      "Processed user 1 (0)\n",
      "Processed user 1 (0)\n",
      "Processed user 1 (0)\n"
     ]
    },
    {
     "name": "stderr",
     "output_type": "stream",
     "text": [
      "ok\n",
      "test_get_profile_length (test_User_KNN.test_User_KNN) ... ok\n",
      "test_get_profile_mean (test_User_KNN.test_User_KNN) ... ok\n",
      "test_get_rating (test_User_KNN.test_User_KNN) ... "
     ]
    },
    {
     "name": "stdout",
     "output_type": "stream",
     "text": [
      "Processed user 1 (0)\n",
      "Processed user 1 (0)\n",
      "Processed user 1 (0)\n"
     ]
    },
    {
     "name": "stderr",
     "output_type": "stream",
     "text": [
      "ok\n",
      "test_get_users (test_User_KNN.test_User_KNN) ... ok\n",
      "test_neighbors (test_User_KNN.test_User_KNN) ... ok\n",
      "test_predict (test_User_KNN.test_User_KNN) ... "
     ]
    },
    {
     "name": "stdout",
     "output_type": "stream",
     "text": [
      "Processed user 1 (0)\n",
      "Processed user 1 (0)\n",
      "Processed user 1 (0)\n"
     ]
    },
    {
     "name": "stderr",
     "output_type": "stream",
     "text": [
      "ok\n",
      "test_predict_hwk2 (test_User_KNN.test_User_KNN) ... ok\n",
      "test_similarities (test_User_KNN.test_User_KNN) ... ok\n",
      "test_similarities_hwk2 (test_User_KNN.test_User_KNN) ... "
     ]
    },
    {
     "name": "stdout",
     "output_type": "stream",
     "text": [
      "Processed user 1 (0)\n",
      "Processed user 1 (0)\n",
      "Processed user 1 (0)\n"
     ]
    },
    {
     "name": "stderr",
     "output_type": "stream",
     "text": [
      "ok\n",
      "\n",
      "----------------------------------------------------------------------\n",
      "Ran 12 tests in 1.229s\n",
      "\n",
      "OK\n"
     ]
    },
    {
     "data": {
      "text/plain": [
       "<unittest.runner.TextTestResult run=12 errors=0 failures=0>"
      ]
     },
     "execution_count": 4,
     "metadata": {},
     "output_type": "execute_result"
    }
   ],
   "source": [
    "suite = unittest.TestLoader().loadTestsFromTestCase(test_User_KNN.test_User_KNN)\n",
    "runner = unittest.TextTestRunner(verbosity=2)\n",
    "runner.run(suite)"
   ]
  },
  {
   "cell_type": "markdown",
   "metadata": {},
   "source": [
    "### Load the FilmTrust ratings\n",
    "Should be 301 users"
   ]
  },
  {
   "cell_type": "code",
   "execution_count": 5,
   "metadata": {},
   "outputs": [
    {
     "data": {
      "text/plain": [
       "301"
      ]
     },
     "execution_count": 5,
     "metadata": {},
     "output_type": "execute_result"
    }
   ],
   "source": [
    "ratings = pd.read_csv('ratings_film_3.txt', sep='\\s+', names=['userId','movieId','rating'])\n",
    "len(ratings['userId'].unique())\n",
    "# ratings.head()"
   ]
  },
  {
   "cell_type": "markdown",
   "metadata": {},
   "source": [
    "### Set up the algorithm\n",
    "Note this is pretty slow. It could take 10-20 minutes or longer depending on your hardware. It prints out every 10 uesrs, so you can estimate how long it will take to process all 301 of them."
   ]
  },
  {
   "cell_type": "code",
   "execution_count": 6,
   "metadata": {},
   "outputs": [
    {
     "name": "stdout",
     "output_type": "stream",
     "text": [
      "Processed user 750 (0)\n",
      "Processed user 760 (10)\n",
      "Processed user 770 (20)\n",
      "Processed user 780 (30)\n",
      "Processed user 790 (40)\n",
      "Processed user 800 (50)\n",
      "Processed user 810 (60)\n",
      "Processed user 820 (70)\n",
      "Processed user 830 (80)\n",
      "Processed user 840 (90)\n",
      "Processed user 850 (100)\n",
      "Processed user 860 (110)\n",
      "Processed user 870 (120)\n",
      "Processed user 880 (130)\n",
      "Processed user 890 (140)\n",
      "Processed user 900 (150)\n",
      "Processed user 910 (160)\n",
      "Processed user 920 (170)\n",
      "Processed user 930 (180)\n",
      "Processed user 940 (190)\n",
      "Processed user 950 (200)\n",
      "Processed user 960 (210)\n",
      "Processed user 970 (220)\n",
      "Processed user 980 (230)\n",
      "Processed user 990 (240)\n",
      "Processed user 1000 (250)\n",
      "Processed user 1010 (260)\n",
      "Processed user 1020 (270)\n",
      "Processed user 1030 (280)\n",
      "Processed user 1040 (290)\n",
      "Processed user 1050 (300)\n"
     ]
    }
   ],
   "source": [
    "alg = User_KNN(20, sim_threshold=0)\n",
    "alg.fit(ratings)"
   ]
  },
  {
   "cell_type": "code",
   "execution_count": 7,
   "metadata": {},
   "outputs": [
    {
     "data": {
      "text/plain": [
       "2     3.296512\n",
       "4     3.247664\n",
       "9     3.283829\n",
       "11    3.562260\n",
       "dtype: float64"
      ]
     },
     "execution_count": 7,
     "metadata": {},
     "output_type": "execute_result"
    }
   ],
   "source": [
    "alg.predict_for_user(870, [2,4,9,11])"
   ]
  },
  {
   "cell_type": "markdown",
   "metadata": {},
   "source": [
    "## INFO 5871 only\n",
    "Same process, but now we are using `User_KNN2`."
   ]
  },
  {
   "cell_type": "markdown",
   "metadata": {},
   "source": [
    "### Test case\n",
    "Commented out because implementation does not exist yet."
   ]
  },
  {
   "cell_type": "code",
   "execution_count": 8,
   "metadata": {},
   "outputs": [],
   "source": [
    "from test_User_KNN2 import test_User_KNN2\n",
    "\n",
    "%aimport test_User_KNN2"
   ]
  },
  {
   "cell_type": "code",
   "execution_count": 9,
   "metadata": {},
   "outputs": [
    {
     "name": "stderr",
     "output_type": "stream",
     "text": [
      "test_get_items (test_User_KNN2.test_User_KNN2) ... "
     ]
    },
    {
     "name": "stdout",
     "output_type": "stream",
     "text": [
      "Processed user 1 (0)\n"
     ]
    },
    {
     "name": "stderr",
     "output_type": "stream",
     "text": [
      "ok\n",
      "test_get_overlap (test_User_KNN2.test_User_KNN2) ... "
     ]
    },
    {
     "name": "stdout",
     "output_type": "stream",
     "text": [
      "Processed user 1 (0)\n"
     ]
    },
    {
     "name": "stderr",
     "output_type": "stream",
     "text": [
      "ok\n",
      "test_get_profile (test_User_KNN2.test_User_KNN2) ... "
     ]
    },
    {
     "name": "stdout",
     "output_type": "stream",
     "text": [
      "Processed user 1 (0)\n"
     ]
    },
    {
     "name": "stderr",
     "output_type": "stream",
     "text": [
      "ok\n",
      "test_get_profile_length (test_User_KNN2.test_User_KNN2) ... "
     ]
    },
    {
     "name": "stdout",
     "output_type": "stream",
     "text": [
      "Processed user 1 (0)\n"
     ]
    },
    {
     "name": "stderr",
     "output_type": "stream",
     "text": [
      "ok\n",
      "test_get_profile_mean (test_User_KNN2.test_User_KNN2) ... "
     ]
    },
    {
     "name": "stdout",
     "output_type": "stream",
     "text": [
      "Processed user 1 (0)\n"
     ]
    },
    {
     "name": "stderr",
     "output_type": "stream",
     "text": [
      "ok\n",
      "test_get_rating (test_User_KNN2.test_User_KNN2) ... "
     ]
    },
    {
     "name": "stdout",
     "output_type": "stream",
     "text": [
      "Processed user 1 (0)\n"
     ]
    },
    {
     "name": "stderr",
     "output_type": "stream",
     "text": [
      "ok\n",
      "test_get_users (test_User_KNN2.test_User_KNN2) ... "
     ]
    },
    {
     "name": "stdout",
     "output_type": "stream",
     "text": [
      "Processed user 1 (0)\n"
     ]
    },
    {
     "name": "stderr",
     "output_type": "stream",
     "text": [
      "ok\n",
      "test_neighbors (test_User_KNN2.test_User_KNN2) ... "
     ]
    },
    {
     "name": "stdout",
     "output_type": "stream",
     "text": [
      "Processed user 1 (0)\n"
     ]
    },
    {
     "name": "stderr",
     "output_type": "stream",
     "text": [
      "ok\n",
      "test_predict (test_User_KNN2.test_User_KNN2) ... "
     ]
    },
    {
     "name": "stdout",
     "output_type": "stream",
     "text": [
      "Processed user 1 (0)\n"
     ]
    },
    {
     "name": "stderr",
     "output_type": "stream",
     "text": [
      "ok\n",
      "test_predict_hwk2 (test_User_KNN2.test_User_KNN2) ... "
     ]
    },
    {
     "name": "stdout",
     "output_type": "stream",
     "text": [
      "Processed user 1 (0)\n"
     ]
    },
    {
     "name": "stderr",
     "output_type": "stream",
     "text": [
      "ok\n",
      "test_similarities1 (test_User_KNN2.test_User_KNN2) ... "
     ]
    },
    {
     "name": "stdout",
     "output_type": "stream",
     "text": [
      "Processed user 1 (0)\n"
     ]
    },
    {
     "name": "stderr",
     "output_type": "stream",
     "text": [
      "ok\n",
      "test_similarities2 (test_User_KNN2.test_User_KNN2) ... "
     ]
    },
    {
     "name": "stdout",
     "output_type": "stream",
     "text": [
      "Processed user 1 (0)\n"
     ]
    },
    {
     "name": "stderr",
     "output_type": "stream",
     "text": [
      "ok\n",
      "test_similarities3 (test_User_KNN2.test_User_KNN2) ... "
     ]
    },
    {
     "name": "stdout",
     "output_type": "stream",
     "text": [
      "Processed user 1 (0)\n"
     ]
    },
    {
     "name": "stderr",
     "output_type": "stream",
     "text": [
      "ok\n",
      "test_similarities4 (test_User_KNN2.test_User_KNN2) ... "
     ]
    },
    {
     "name": "stdout",
     "output_type": "stream",
     "text": [
      "Processed user 1 (0)\n"
     ]
    },
    {
     "name": "stderr",
     "output_type": "stream",
     "text": [
      "ok\n",
      "test_similarities_hwk2 (test_User_KNN2.test_User_KNN2) ... "
     ]
    },
    {
     "name": "stdout",
     "output_type": "stream",
     "text": [
      "Processed user 1 (0)\n"
     ]
    },
    {
     "name": "stderr",
     "output_type": "stream",
     "text": [
      "ok\n",
      "\n",
      "----------------------------------------------------------------------\n",
      "Ran 15 tests in 2.348s\n",
      "\n",
      "OK\n"
     ]
    },
    {
     "data": {
      "text/plain": [
       "<unittest.runner.TextTestResult run=15 errors=0 failures=0>"
      ]
     },
     "execution_count": 9,
     "metadata": {},
     "output_type": "execute_result"
    }
   ],
   "source": [
    "suite = unittest.TestLoader().loadTestsFromTestCase(test_User_KNN2.test_User_KNN2)\n",
    "runner = unittest.TextTestRunner(verbosity=2)\n",
    "runner.run(suite)"
   ]
  },
  {
   "cell_type": "markdown",
   "metadata": {},
   "source": [
    "### Recommender with shrinkage"
   ]
  },
  {
   "cell_type": "code",
   "execution_count": 10,
   "metadata": {},
   "outputs": [],
   "source": [
    "%aimport User_KNN2\n",
    "%autoreload 2\n",
    "\n",
    "from User_KNN2 import User_KNN2"
   ]
  },
  {
   "cell_type": "code",
   "execution_count": 11,
   "metadata": {},
   "outputs": [
    {
     "data": {
      "text/plain": [
       "301"
      ]
     },
     "execution_count": 11,
     "metadata": {},
     "output_type": "execute_result"
    }
   ],
   "source": [
    "ratings2 = pd.read_csv('ratings_film_3.txt', sep='\\s+', names=['aaa','bbb','ccc'])\n",
    "len(ratings2['aaa'].unique())"
   ]
  },
  {
   "cell_type": "code",
   "execution_count": 12,
   "metadata": {},
   "outputs": [
    {
     "name": "stdout",
     "output_type": "stream",
     "text": [
      "Processed user 750 (0)\n",
      "Processed user 760 (10)\n",
      "Processed user 770 (20)\n",
      "Processed user 780 (30)\n",
      "Processed user 790 (40)\n",
      "Processed user 800 (50)\n",
      "Processed user 810 (60)\n",
      "Processed user 820 (70)\n",
      "Processed user 830 (80)\n",
      "Processed user 840 (90)\n",
      "Processed user 850 (100)\n",
      "Processed user 860 (110)\n",
      "Processed user 870 (120)\n",
      "Processed user 880 (130)\n",
      "Processed user 890 (140)\n",
      "Processed user 900 (150)\n",
      "Processed user 910 (160)\n",
      "Processed user 920 (170)\n",
      "Processed user 930 (180)\n",
      "Processed user 940 (190)\n",
      "Processed user 950 (200)\n",
      "Processed user 960 (210)\n",
      "Processed user 970 (220)\n",
      "Processed user 980 (230)\n",
      "Processed user 990 (240)\n",
      "Processed user 1000 (250)\n",
      "Processed user 1010 (260)\n",
      "Processed user 1020 (270)\n",
      "Processed user 1030 (280)\n",
      "Processed user 1040 (290)\n",
      "Processed user 1050 (300)\n"
     ]
    }
   ],
   "source": [
    "alg2 = User_KNN2(20, sim_threshold=0, shrinkage=20, user_label='aaa', item_label='bbb', rating_label='ccc')\n",
    "alg2.fit(ratings2)"
   ]
  },
  {
   "cell_type": "code",
   "execution_count": 13,
   "metadata": {},
   "outputs": [
    {
     "data": {
      "text/plain": [
       "2     3.555331\n",
       "4     3.208804\n",
       "9     3.487146\n",
       "11    3.747947\n",
       "dtype: float64"
      ]
     },
     "execution_count": 13,
     "metadata": {},
     "output_type": "execute_result"
    }
   ],
   "source": [
    "alg2.predict_for_user(870, [2,4,9,11])"
   ]
  },
  {
   "cell_type": "markdown",
   "metadata": {},
   "source": [
    "## Hints\n",
    "\n",
    "- Your code will be _quite_ inefficient. Matrix and vector operations in `numpy` would be preferable, but that is outside of the scope of this homework. Accept that this is a toy implementation and don't worry too much about it. \n",
    "- Multi-indexing: I am using multi-indexing in Pandas to get a bit more efficiency. (My experience is that the code is 2-3x slower without it. Multi-indexing takes some getting used to, so take a look at the Pandas documentation and test out the functions to see how they work with the ratings data frame.\n",
    "- Similarities sum to zero. If the similarities sum to zero, you will get a division-by-zero error in computing your prediction. Check for this condition and return the user's mean rating in this case.\n"
   ]
  },
  {
   "cell_type": "code",
   "execution_count": null,
   "metadata": {},
   "outputs": [],
   "source": []
  }
 ],
 "metadata": {
  "kernelspec": {
   "display_name": "Python 3",
   "language": "python",
   "name": "python3"
  },
  "language_info": {
   "codemirror_mode": {
    "name": "ipython",
    "version": 3
   },
   "file_extension": ".py",
   "mimetype": "text/x-python",
   "name": "python",
   "nbconvert_exporter": "python",
   "pygments_lexer": "ipython3",
   "version": "3.6.1"
  }
 },
 "nbformat": 4,
 "nbformat_minor": 2
}
